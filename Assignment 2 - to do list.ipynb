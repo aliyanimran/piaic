{
 "cells": [
  {
   "cell_type": "code",
   "execution_count": 1,
   "metadata": {},
   "outputs": [
    {
     "name": "stdout",
     "output_type": "stream",
     "text": [
      "please confirm if attending class task has been performed yet or not: yes\n",
      "the attending class task in the question has been completed\n",
      "your remaining tasks are ['home work', 'job', 'setting book-shelf', 'application for pto']\n",
      "please confirm if home work task has been performed yet or not: yes\n",
      "the home work task in the question has been completed\n",
      "your remaining tasks are ['job', 'setting book-shelf', 'application for pto']\n",
      "please confirm if job task has been performed yet or not: no\n",
      "alert! job task is being delayed\n",
      "total remaining tasks list is ['job', 'setting book-shelf', 'application for pto']\n",
      "please confirm if setting book-shelf task has been performed yet or not: yes\n",
      "the setting book-shelf task in the question has been completed\n",
      "your remaining tasks are ['job', 'application for pto']\n",
      "please confirm if application for pto task has been performed yet or not: no\n",
      "alert! application for pto task is being delayed\n",
      "total remaining tasks list is ['job', 'application for pto']\n"
     ]
    }
   ],
   "source": [
    "to_do_list = [\"attending class\", \"home work\", \"job\", \"setting book-shelf\", \"application for pto\"]\n",
    "for task in to_do_list[:]:\n",
    "    inp = input(f\"please confirm if {task} task has been performed yet or not: \")\n",
    "    if inp == \"yes\":\n",
    "        print(f\"the {task} task in the question has been completed\")\n",
    "        comp_task = to_do_list.index(task)\n",
    "        to_do_list.pop(comp_task)\n",
    "        print(f\"your remaining tasks are {to_do_list}\")\n",
    "    elif inp == \"no\":\n",
    "        print(f\"alert! {task} task is being delayed\")\n",
    "        print(f\"total remaining tasks list is {to_do_list}\")\n",
    "    else:\n",
    "        print(\"it seems that yor are not interested in answering this question at the moment\")\n",
    "        continue"
   ]
  },
  {
   "cell_type": "markdown",
   "metadata": {},
   "source": [
    "The end. By: AIC027299\n",
    "    MUHAMMAD ALIYAN JAFRI\n",
    "    GULSHAN CAMPUS SAYLANI - SATURDAY 9 TO 12"
   ]
  }
 ],
 "metadata": {
  "kernelspec": {
   "display_name": "Python 3",
   "language": "python",
   "name": "python3"
  },
  "language_info": {
   "codemirror_mode": {
    "name": "ipython",
    "version": 3
   },
   "file_extension": ".py",
   "mimetype": "text/x-python",
   "name": "python",
   "nbconvert_exporter": "python",
   "pygments_lexer": "ipython3",
   "version": "3.7.3"
  }
 },
 "nbformat": 4,
 "nbformat_minor": 2
}
